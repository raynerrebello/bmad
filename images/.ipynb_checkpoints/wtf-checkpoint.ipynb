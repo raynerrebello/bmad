{
 "cells": [
  {
   "cell_type": "code",
   "execution_count": 4,
   "metadata": {},
   "outputs": [],
   "source": [
    "from PIL import Image\n",
    "import numpy as np\n",
    "import pprint as pp\n",
    "from palette import web_palette"
   ]
  },
  {
   "cell_type": "code",
   "execution_count": 11,
   "metadata": {},
   "outputs": [],
   "source": [
    "from PIL import Image\n",
    "import numpy as np\n",
    "import pprint as pp\n",
    "from palette import web_palette\n",
    "\n",
    "# Pads a binary string with leading 0's\n",
    "pad = lambda x :'0'*(8-len(x)) + x if len(x) < 8 else x\n",
    "\n",
    "# Returns a 2-d np-array of length 8 strings for every pixel\n",
    "def img2bin(fn):\n",
    "    im = Image.open(fn)\n",
    "    arr = np.array(im)\n",
    "    bin_repr = [[pad(bin(pixel).lstrip('0b')) for pixel in row] for row in arr]\n",
    "    return np.array(bin_repr)\n",
    "\n",
    "# Returns an PIL Image object from an array of 8-bit binary strings\n",
    "def bin2img(bin_repr,palette = web_palette):\n",
    "    arr = np.array([[int(str(pixel), 2) for pixel in row] for row in bin_repr],dtype = 'uint8')\n",
    "    im = Image.fromarray(arr,mode='P')\n",
    "    im.putpalette(palette)\n",
    "    im.show()\n",
    "    return im\n",
    "\n",
    "def img2mat(fn):\n",
    "    x = img2bin(fn)\n",
    "    r = np.zeros((*x.shape,8),dtype = 'uint8')\n",
    "    for i,row in enumerate(x):\n",
    "        for j,val in enumerate(row):\n",
    "            r[i,j,:] = np.array([int(d) for d in list(val)])\n",
    "    #keeps the internal dimension.(n,m,8) -> (8n,m)\n",
    "    return r.reshape(-2, r.shape[-2])\n",
    "    "
   ]
  },
  {
   "cell_type": "raw",
   "metadata": {},
   "source": [
    "x = img2bin('./img/doge.bmp')\n",
    "x"
   ]
  },
  {
   "cell_type": "code",
   "execution_count": 131,
   "metadata": {},
   "outputs": [],
   "source": [
    "y = bin2img(x)\n",
    "y.astype('uint8')\n",
    "\n",
    "im = Image.open('doge.bmp')\n",
    "arr = np.array(im)"
   ]
  },
  {
   "cell_type": "code",
   "execution_count": 40,
   "metadata": {},
   "outputs": [],
   "source": [
    "r = np.zeros((*x.shape,8),dtype = 'uint8')\n",
    "r.shape\n",
    "for i,row in enumerate(x):\n",
    "    for j,val in enumerate(row):\n",
    "        r[i,j,:] = np.array([int(d)  for d in list(val)])"
   ]
  },
  {
   "cell_type": "code",
   "execution_count": 59,
   "metadata": {},
   "outputs": [
    {
     "data": {
      "text/plain": [
       "'00010010'"
      ]
     },
     "execution_count": 59,
     "metadata": {},
     "output_type": "execute_result"
    }
   ],
   "source": [
    "x[0,0]"
   ]
  },
  {
   "cell_type": "code",
   "execution_count": 61,
   "metadata": {},
   "outputs": [
    {
     "data": {
      "text/plain": [
       "array([0, 0, 0, 1, 0, 0, 1, 0], dtype=uint8)"
      ]
     },
     "execution_count": 61,
     "metadata": {},
     "output_type": "execute_result"
    }
   ],
   "source": [
    "r = r.reshape(-2, r.shape[-2])\n",
    "r.shape\n",
    "r[0,0:8]"
   ]
  },
  {
   "cell_type": "code",
   "execution_count": 166,
   "metadata": {},
   "outputs": [
    {
     "data": {
      "text/plain": [
       "array([  0,   0,   0,   0,   0,   0,   0,   0,   0,   0,   0,   0,   0,\n",
       "         0,   0,   0,   0,   0,   0,   0,   0,   0,   0,   0,   0,   0,\n",
       "         0,   0,   0,   0,   0,   0,   0,  51,   0,   0, 102,   0,   0,\n",
       "       153,   0,   0, 204,   0,   0, 255,   0,   0,   0,  51,   0,  51,\n",
       "        51,   0, 102,  51,   0, 153,  51,   0, 204,  51,   0, 255,  51,\n",
       "         0,   0, 102,   0,  51, 102,   0, 102, 102,   0, 153, 102,   0,\n",
       "       204, 102,   0, 255, 102,   0,   0, 153,   0,  51, 153,   0, 102,\n",
       "       153,   0, 153, 153,   0, 204, 153,   0, 255, 153,   0,   0, 204,\n",
       "         0,  51, 204,   0, 102, 204,   0, 153, 204,   0, 204, 204,   0,\n",
       "       255, 204,   0,   0, 255,   0,  51, 255,   0, 102, 255,   0, 153,\n",
       "       255,   0, 204, 255,   0, 255, 255,   0,   0,   0,  51,  51,   0,\n",
       "        51, 102,   0,  51, 153,   0,  51, 204,   0,  51, 255,   0,  51,\n",
       "         0,  51,  51,  51,  51,  51, 102,  51,  51, 153,  51,  51, 204,\n",
       "        51,  51, 255,  51,  51,   0, 102,  51,  51, 102,  51, 102, 102,\n",
       "        51, 153, 102,  51, 204, 102,  51, 255, 102,  51,   0, 153,  51,\n",
       "        51, 153,  51, 102, 153,  51, 153, 153,  51, 204, 153,  51, 255,\n",
       "       153,  51,   0, 204,  51,  51, 204,  51, 102, 204,  51, 153, 204,\n",
       "        51, 204, 204,  51, 255, 204,  51,   0, 255,  51,  51, 255,  51,\n",
       "       102, 255,  51, 153, 255,  51, 204, 255,  51, 255, 255,  51,   0,\n",
       "         0, 102,  51,   0, 102, 102,   0, 102, 153,   0, 102, 204,   0,\n",
       "       102, 255,   0, 102,   0,  51, 102,  51,  51, 102, 102,  51, 102,\n",
       "       153,  51, 102, 204,  51, 102, 255,  51, 102,   0, 102, 102,  51,\n",
       "       102, 102, 102, 102, 102, 153, 102, 102, 204, 102, 102, 255, 102,\n",
       "       102,   0, 153, 102,  51, 153, 102, 102, 153, 102, 153, 153, 102,\n",
       "       204, 153, 102, 255, 153, 102,   0, 204, 102,  51, 204, 102, 102,\n",
       "       204, 102, 153, 204, 102, 204, 204, 102, 255, 204, 102,   0, 255,\n",
       "       102,  51, 255, 102, 102, 255, 102, 153, 255, 102, 204, 255, 102,\n",
       "       255, 255, 102,   0,   0, 153,  51,   0, 153, 102,   0, 153, 153,\n",
       "         0, 153, 204,   0, 153, 255,   0, 153,   0,  51, 153,  51,  51,\n",
       "       153, 102,  51, 153, 153,  51, 153, 204,  51, 153, 255,  51, 153,\n",
       "         0, 102, 153,  51, 102, 153, 102, 102, 153, 153, 102, 153, 204,\n",
       "       102, 153, 255, 102, 153,   0, 153, 153,  51, 153, 153, 102, 153,\n",
       "       153, 153, 153, 153, 204, 153, 153, 255, 153, 153,   0, 204, 153,\n",
       "        51, 204, 153, 102, 204, 153, 153, 204, 153, 204, 204, 153, 255,\n",
       "       204, 153,   0, 255, 153,  51, 255, 153, 102, 255, 153, 153, 255,\n",
       "       153, 204, 255, 153, 255, 255, 153,   0,   0, 204,  51,   0, 204,\n",
       "       102,   0, 204, 153,   0, 204, 204,   0, 204, 255,   0, 204,   0,\n",
       "        51, 204,  51,  51, 204, 102,  51, 204, 153,  51, 204, 204,  51,\n",
       "       204, 255,  51, 204,   0, 102, 204,  51, 102, 204, 102, 102, 204,\n",
       "       153, 102, 204, 204, 102, 204, 255, 102, 204,   0, 153, 204,  51,\n",
       "       153, 204, 102, 153, 204, 153, 153, 204, 204, 153, 204, 255, 153,\n",
       "       204,   0, 204, 204,  51, 204, 204, 102, 204, 204, 153, 204, 204,\n",
       "       204, 204, 204, 255, 204, 204,   0, 255, 204,  51, 255, 204, 102,\n",
       "       255, 204, 153, 255, 204, 204, 255, 204, 255, 255, 204,   0,   0,\n",
       "       255,  51,   0, 255, 102,   0, 255, 153,   0, 255, 204,   0, 255,\n",
       "       255,   0, 255,   0,  51, 255,  51,  51, 255, 102,  51, 255, 153,\n",
       "        51, 255, 204,  51, 255, 255,  51, 255,   0, 102, 255,  51, 102,\n",
       "       255, 102, 102, 255, 153, 102, 255, 204, 102, 255, 255, 102, 255,\n",
       "         0, 153, 255,  51, 153, 255, 102, 153, 255, 153, 153, 255, 204,\n",
       "       153, 255, 255, 153, 255,   0, 204, 255,  51, 204, 255, 102, 204,\n",
       "       255, 153, 204, 255, 204, 204, 255, 255, 204, 255,   0, 255, 255,\n",
       "        51, 255, 255, 102, 255, 255, 153, 255, 255, 204, 255, 255, 255,\n",
       "       255, 255,   0,   0,   0,   0,   0,   0,   0,   0,   0,   0,   0,\n",
       "         0,   0,   0,   0,   0,   0,   0,   0,   0,   0,   0,   0,   0,\n",
       "         0,   0,   0,   0,   0,   0,   0,   0,   0,   0,   0,   0,   0,\n",
       "         0,   0,   0,   0,   0,   0,   0,   0,   0,   0,   0,   0,   0,\n",
       "         0,   0,   0,   0,   0,   0,   0,   0,   0,   0,   0,   0,   0,\n",
       "         0,   0,   0,   0,   0,   0,   0,   0,   0,   0,   0,   0,   0,\n",
       "         0,   0,   0,   0,   0,   0,   0,   0,   0,   0,   0,   0,   0,\n",
       "         0])"
      ]
     },
     "execution_count": 166,
     "metadata": {},
     "output_type": "execute_result"
    }
   ],
   "source": [
    "pal = np.zeros(3*256, int)\n",
    "pal[30:-90] = np.mgrid[0:256:51, 0:256:51, 0:256:51].ravel('F')\n",
    "\n",
    "pal"
   ]
  }
 ],
 "metadata": {
  "kernelspec": {
   "display_name": "Python 3",
   "language": "python",
   "name": "python3"
  },
  "language_info": {
   "codemirror_mode": {
    "name": "ipython",
    "version": 3
   },
   "file_extension": ".py",
   "mimetype": "text/x-python",
   "name": "python",
   "nbconvert_exporter": "python",
   "pygments_lexer": "ipython3",
   "version": "3.6.5"
  }
 },
 "nbformat": 4,
 "nbformat_minor": 2
}
